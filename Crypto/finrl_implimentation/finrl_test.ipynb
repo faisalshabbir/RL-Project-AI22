{
 "cells": [
  {
   "cell_type": "code",
   "execution_count": 1,
   "metadata": {},
   "outputs": [],
   "source": [
    "import finrl"
   ]
  },
  {
   "cell_type": "code",
   "execution_count": 2,
   "metadata": {},
   "outputs": [
    {
     "name": "stdout",
     "output_type": "stream",
     "text": [
      "['annotations', 'config', 'config_tickers', 'meta', 'test', 'trade', 'train']\n"
     ]
    }
   ],
   "source": [
    "finrl_method_list=[]\n",
    "\n",
    "for i in dir(finrl):\n",
    "    if not i.startswith(\"__\"):\n",
    "        finrl_method_list.append(i)\n",
    "\n",
    "print(finrl_method_list)"
   ]
  },
  {
   "cell_type": "code",
   "execution_count": null,
   "metadata": {},
   "outputs": [],
   "source": []
  }
 ],
 "metadata": {
  "kernelspec": {
   "display_name": "Py310-venv",
   "language": "python",
   "name": "python3"
  },
  "language_info": {
   "codemirror_mode": {
    "name": "ipython",
    "version": 3
   },
   "file_extension": ".py",
   "mimetype": "text/x-python",
   "name": "python",
   "nbconvert_exporter": "python",
   "pygments_lexer": "ipython3",
   "version": "3.10.0"
  }
 },
 "nbformat": 4,
 "nbformat_minor": 2
}
